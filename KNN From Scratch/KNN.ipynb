{
  "nbformat": 4,
  "nbformat_minor": 0,
  "metadata": {
    "kernelspec": {
      "display_name": "Python 3",
      "language": "python",
      "name": "python3"
    },
    "language_info": {
      "codemirror_mode": {
        "name": "ipython",
        "version": 3
      },
      "file_extension": ".py",
      "mimetype": "text/x-python",
      "name": "python",
      "nbconvert_exporter": "python",
      "pygments_lexer": "ipython3",
      "version": "3.7.4"
    },
    "colab": {
      "name": "KNN.ipynb",
      "provenance": [],
      "collapsed_sections": []
    }
  },
  "cells": [
    {
      "cell_type": "code",
      "metadata": {
        "id": "z7MMP2HJ1DB4",
        "colab_type": "code",
        "colab": {}
      },
      "source": [
        ""
      ],
      "execution_count": 0,
      "outputs": []
    },
    {
      "cell_type": "code",
      "metadata": {
        "id": "KtoAu3oy0_7J",
        "colab_type": "code",
        "colab": {}
      },
      "source": [
        "import pandas as pd\n",
        "import numpy as np\n",
        "#KNN from Scratch \n",
        "\n",
        "\n",
        "#Calculating the euclidean distance for the test and train samples \n",
        "def euclidean_distance(train,test):\n",
        "    d=np.sum(np.square(train - test), axis=1)\n",
        "    distance=np.sqrt(d)\n",
        "    return distance\n",
        "\n",
        "\n",
        "#Let us calculate the nearest neighbours and classes \n",
        "def neighbours_classes(k,xtrain,ytrain,xtest):\n",
        "    df = np.column_stack([ytrain,euclidean_distance(xtrain,xtest)])\n",
        "    neighb = list(df[df[:, 1].argsort()][:k:, 0]) #Sorts and stores in K classes \n",
        "    classes=max(set(neighb), key=neighb.count)#Gives the class\n",
        "    return classes\n",
        "\n",
        "#Predicts the classes and calculates the accuracy\n",
        "def prediction_accuracy(k,xtrain,ytrain, xtest,ytest):\n",
        "    \n",
        "    for test in xtest:\n",
        "        prediction = neighbours_classes(k,xtrain,ytrain, test)\n",
        "    \n",
        "    correct = (np.array(ytest) == np.array(prediction))\n",
        "    no_of_correct=correct.sum()\n",
        "    accuracy = round((no_of_correct / len(ytest))*100,2)\n",
        "    return accuracy\n",
        "\n",
        "\n",
        "#The neighbours_classes gives the \"K\" number of classes for the data and we can calculate accuracy using prediction_accuracy function. "
      ],
      "execution_count": 0,
      "outputs": []
    },
    {
      "cell_type": "code",
      "metadata": {
        "id": "luDT611G1Lwb",
        "colab_type": "code",
        "colab": {}
      },
      "source": [
        ""
      ],
      "execution_count": 0,
      "outputs": []
    }
  ]
}